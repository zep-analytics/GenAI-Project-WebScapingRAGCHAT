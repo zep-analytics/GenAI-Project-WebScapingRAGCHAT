{
 "cells": [
  {
   "cell_type": "code",
   "execution_count": 1,
   "metadata": {},
   "outputs": [],
   "source": [
    "from urllib.parse import urlparse\n",
    "import requests\n",
    "from langchain.docstore.document import Document"
   ]
  },
  {
   "cell_type": "code",
   "execution_count": 2,
   "metadata": {},
   "outputs": [],
   "source": [
    "file_path = 'pages_name.txt'  \n",
    "\n",
    "\n",
    "lists=[]\n",
    "with open(file_path, 'r') as file:\n",
    "    for line in file:\n",
    "        url = line.strip()  \n",
    "        lists.append(url)"
   ]
  },
  {
   "cell_type": "code",
   "execution_count": 3,
   "metadata": {},
   "outputs": [
    {
     "data": {
      "text/plain": [
       "['https://www.econocom.com/en/impact/responsible',\n",
       " 'https://www.econocom.com/en/impact/useful-assessment',\n",
       " 'https://www.econocom.com/en/impact/innovative-and-ambitious',\n",
       " 'https://www.econocom.com/en/impact/strategic-and-responsible',\n",
       " 'https://www.econocom.com/en/impact/boldness',\n",
       " 'https://www.econocom.com/en/impact/boldness#w4239',\n",
       " 'https://www.econocom.com/en/impact/responsiveness',\n",
       " 'https://www.econocom.com/en/impact/responsiveness#w4274',\n",
       " 'https://www.econocom.com/en/impact/good-faith',\n",
       " 'https://www.econocom.com/en/impact/good-faith#w4262',\n",
       " 'https://www.econocom.com/en/impact/reality-figures',\n",
       " 'https://www.econocom.com/en/impact/360deg-response',\n",
       " 'https://www.econocom.com/en/impact/vital-imperative',\n",
       " 'https://www.econocom.com/en/impact/utility-virtue',\n",
       " 'https://www.econocom.com/en/impact/certifications-and-labels',\n",
       " 'https://www.econocom.com/en/impact/marker-our-difference',\n",
       " 'https://www.econocom.com/en/impact/working-intelligently',\n",
       " 'https://www.econocom.com/en/impact/include-all-wills',\n",
       " 'https://www.econocom.com/en/impact/solidarity-obliges-us',\n",
       " 'https://www.econocom.com/en/impact/studies-weak-signals-strong-currents',\n",
       " 'https://www.econocom.com/en/impact/timeline']"
      ]
     },
     "execution_count": 3,
     "metadata": {},
     "output_type": "execute_result"
    }
   ],
   "source": [
    "lists"
   ]
  },
  {
   "cell_type": "code",
   "execution_count": 4,
   "metadata": {},
   "outputs": [],
   "source": [
    "from bs4 import BeautifulSoup\n",
    "import re\n",
    "def parse_html(html_content):\n",
    "    soup = BeautifulSoup(html_content, 'html.parser')\n",
    "    return soup.get_text()\n",
    "\n",
    "def fetch_webpage(url):\n",
    "    response = requests.get(url)\n",
    "    return response.text\n",
    "\n",
    "def clean_text(text):\n",
    "    # Remove extra whitespace and newlines\n",
    "    text = ' '.join(text.split())\n",
    "    # Remove any remaining unwanted characters or patterns (example: URLs, special characters)\n",
    "    text = re.sub(r'http\\S+', '', text)  # Remove URLs\n",
    "    text = re.sub(r'[^a-zA-Z0-9\\s.,!?\\'\"]+', '', text)  # Remove special characters except punctuation\n",
    "    return text\n",
    "\n",
    "from docx import Document\n",
    "\n",
    "def write_to_docx(text_content, output_filename):\n",
    "    doc = Document()  # Create a new Document object\n",
    "\n",
    "    # Add a heading\n",
    "    doc.add_heading('Document Title', level=1)\n",
    "\n",
    "    doc.add_paragraph(text_content)\n",
    "\n",
    "    # Save the document\n",
    "    doc.save(output_filename)"
   ]
  },
  {
   "cell_type": "code",
   "execution_count": null,
   "metadata": {},
   "outputs": [],
   "source": [
    "for url in lists:\n",
    "        html_content=fetch_webpage(url)\n",
    "        page_text=parse_html(html_content)\n",
    "        final_text=clean_text(page_text)\n",
    "        output_filename=url.split('/')[-1]+'.docx'\n",
    "\n",
    "        write_to_docx(final_text,output_filename)"
   ]
  }
 ],
 "metadata": {
  "kernelspec": {
   "display_name": "Python 3",
   "language": "python",
   "name": "python3"
  },
  "language_info": {
   "codemirror_mode": {
    "name": "ipython",
    "version": 3
   },
   "file_extension": ".py",
   "mimetype": "text/x-python",
   "name": "python",
   "nbconvert_exporter": "python",
   "pygments_lexer": "ipython3",
   "version": "3.8.8"
  }
 },
 "nbformat": 4,
 "nbformat_minor": 2
}
